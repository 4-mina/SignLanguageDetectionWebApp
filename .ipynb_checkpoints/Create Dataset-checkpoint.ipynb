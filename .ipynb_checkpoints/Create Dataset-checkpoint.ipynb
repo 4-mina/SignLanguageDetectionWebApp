{
 "cells": [
  {
   "cell_type": "code",
   "execution_count": 8,
   "id": "906b8db4",
   "metadata": {},
   "outputs": [],
   "source": [
    "import cv2 #opencv\n",
    "import os #to work with our paths\n",
    "import time #to create some time intervals for picture taking\n",
    "import uuid #to name our images automatically with unique IDs"
   ]
  },
  {
   "cell_type": "code",
   "execution_count": 11,
   "id": "36e3fb15",
   "metadata": {},
   "outputs": [],
   "source": [
    "imagesPath= \"Tensorflow/workspace/images/allImages\""
   ]
  },
  {
   "cell_type": "code",
   "execution_count": 12,
   "id": "2dfaf8e8",
   "metadata": {},
   "outputs": [],
   "source": [
    "labels= [\"hi\",\"thanks\",\"yes\",\"no\",\"iloveyou\"]\n",
    "imgNumber=15"
   ]
  },
  {
   "cell_type": "code",
   "execution_count": 15,
   "id": "4b06fad8",
   "metadata": {},
   "outputs": [
    {
     "name": "stderr",
     "output_type": "stream",
     "text": [
      "The system cannot find the path specified.\n"
     ]
    },
    {
     "name": "stdout",
     "output_type": "stream",
     "text": [
      "Getting the image for hi\n"
     ]
    },
    {
     "name": "stderr",
     "output_type": "stream",
     "text": [
      "The system cannot find the path specified.\n"
     ]
    },
    {
     "name": "stdout",
     "output_type": "stream",
     "text": [
      "Getting the image for thanks\n"
     ]
    },
    {
     "name": "stderr",
     "output_type": "stream",
     "text": [
      "The system cannot find the path specified.\n"
     ]
    },
    {
     "name": "stdout",
     "output_type": "stream",
     "text": [
      "Getting the image for yes\n"
     ]
    },
    {
     "name": "stderr",
     "output_type": "stream",
     "text": [
      "The system cannot find the path specified.\n"
     ]
    },
    {
     "name": "stdout",
     "output_type": "stream",
     "text": [
      "Getting the image for no\n"
     ]
    },
    {
     "name": "stderr",
     "output_type": "stream",
     "text": [
      "The system cannot find the path specified.\n"
     ]
    },
    {
     "name": "stdout",
     "output_type": "stream",
     "text": [
      "Getting the image for iloveyou\n"
     ]
    }
   ],
   "source": [
    "for label in labels:\n",
    "    !mkdir{\"Tensorflow\\workspace\\images\\allImages\\\\\"+label} # we create a folder for the images from each label\n",
    "    capture=cv2.VideoCapture(0) #start video capture\n",
    "    print(\"Getting the image for {}\".format(label))\n",
    "    time.sleep(5) # give ourselves some time to get the position for the new label right after which we capture imgNumber=15 images\n",
    "    for imgNbr in range(imgNumber):\n",
    "        ret,frame=capture.read()\n",
    "        imgName=os.path.join(imagesPath,label, label+\".\"+\"{}.jpg\".format(str(uuid.uuid1())))\n",
    "        cv2.imwrite(imgName,frame)\n",
    "        cv2.imshow(\"frame\",frame)\n",
    "        time.sleep(2)\n",
    "        if cv2.waitKey(1) & 0xFF ==ord(\"q\"):\n",
    "            break\n",
    "    capture.release()"
   ]
  }
 ],
 "metadata": {
  "kernelspec": {
   "display_name": "Python 3",
   "language": "python",
   "name": "python3"
  },
  "language_info": {
   "codemirror_mode": {
    "name": "ipython",
    "version": 3
   },
   "file_extension": ".py",
   "mimetype": "text/x-python",
   "name": "python",
   "nbconvert_exporter": "python",
   "pygments_lexer": "ipython3",
   "version": "3.8.8"
  }
 },
 "nbformat": 4,
 "nbformat_minor": 5
}
